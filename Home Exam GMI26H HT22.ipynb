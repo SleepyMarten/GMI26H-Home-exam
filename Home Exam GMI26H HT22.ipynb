{
 "cells": [
  {
   "cell_type": "markdown",
   "id": "0f757112",
   "metadata": {},
   "source": [
    "# GMI26H Cryptography Home Exam"
   ]
  },
  {
   "cell_type": "markdown",
   "id": "950de4b0",
   "metadata": {},
   "source": [
    "P1 HT22, Dalarna University\n",
    "\n",
    "(c) Joonas Pääkkönen\n",
    "\n",
    "### Questions 13 to 22 are \"short questions\" that must be answered with just a couple of sentences with or without a single optional figure. References are not required for these answers. Be concise and on point.\n",
    "\n",
    "### You may write your answers in English or Swedish\n",
    "\n",
    "Remember that the Links folder in Learn may include useful links\n",
    "\n",
    "Knowing LaTeX is not a requirement but it may make the few equations that may be needed in your answers prettier, e.g. you may write \"$a^2 = b \\mod 3$\" instead of \"a^2 = b mod 3\"\n",
    "\n",
    "### Use \"File -> Download as\" or \"Print to PDF\" in browser to download this file (with your answers) as .pdf and you will see the length of each answer in .pdf format\n",
    "\n",
    "### Deadline for the entire home exam: Thursday October 27th at 11:59 PM\n",
    "\n",
    "Home exam submission folder will be opened later (some days before the deadline)\n",
    "\n",
    "The maximum length of an essay is 2 pages .pdf format. If your essay contains one or more images or plots, the maximum is 2.5 pages."
   ]
  },
  {
   "cell_type": "markdown",
   "id": "59605288",
   "metadata": {},
   "source": [
    "The following information is directly from the study guide:\n",
    "\n",
    "Home exam: One written home exam which is orally examined. Essays, terminology and short Python exercises. See the notes in the preface of the home exam. The maximum length of an essay is 2 pages .pdf format. If your essay contains one or more images or plots, the maximum is 2.5 pages.\n",
    "\n",
    "The written home exam will be updated approximately once a week so it is published in multiple parts. More questions will be added in each part. At the oral exam of the home exam, any part of the home exam may be examined. All parts of the home exam need to be submitted in one long JNB .ipynb file as well as in .pdf. There will be no (extensive) mathematics in the home exam, apart from perhaps a short formula here or there, but understanding the basics of the mathematics behind cryptography will surely improve your general understanding of the algorithms. Python and Sage can be used to add plots, diagrams and flowcharts to JNB files. You can also add your own drawings to your answers by taking pictures and using the Insert Image command in Markdown cells.\n",
    "\n",
    "You must be able to answer the questions in the oral exam of the home exam without looking at the written answers, though this does not mean that you cannot share your screen. However, if all you can do is to read every answer from your screen word for word, it’s a telltale sign that you have not understood the concept and may have simply copy-pasted your answers from somewhere else.\n",
    "\n",
    "If you have included a drawing or any other figure in your solutions, please do share your screen in the oral exam of the home exam and explain the drawing. You may also have a drawing app open on your computer and draw or write additional things on the fly, if you want.\n",
    "\n",
    "Students are encouraged to discuss cryptography at a general level with fellow students, though each student must write and submit his or her own solutions to the home exam and the AES project. Remember that on Learn you can look for everyone’s username (and thus email address handle) under “Roster → View everyone in your course” so you can email and ask others if you are looking for study buddies. The home exam is individual with individual solutions but working with fellow students is not prohibited. However, if you work with a fellow student, you must mention who you worked with in your answers. For instance: “On questions 2 and 4, I was working together with Carin Keysson”.\n",
    "\n",
    "Also remember that it is usually good practice to refer to several sources of information, not only one (e.g. always only a Wikipedia article).\n",
    "\n",
    "Presentations (oral exams): The AES project and the home exam will be orally presented. During your AES presentation we will look at your code and answers together and you will be asked questions regarding your implementation. You must be able to explain how your code works. If you have had help from others you must comment this in your code. You must comment if you have discussed your code or collaborated with fellow students and comment this for every class/method and give credit to the right person. The same goes if you have looked at code from the internet.\n",
    "\n",
    "Bring a valid ID card (e.g. a driver’s license or a DU access card with a picture) to each of the oral exams.\n",
    "\n",
    "Submissions: Students are encouraged to discuss the labs with fellow students, but everything must be submitted personally on Learn. Each student must write and submit individual solutions.\n",
    "\n",
    "Resubmissions: The home exam written exam and the AES project can be resubmitted twice until the\n",
    "student passes them. Also the oral exams can be retaken twice.\n",
    "\n",
    "Plagiarism: Uphold academic integrity and honesty. Do not plagiarise. Plagiarism means that your text or code reproduces the contents of someone else’s text or code without referencing to the original text or code. Plagiarism can at worst lead to suspension from studies and instructors are required to report all discovered plagiarism. To avoid plagiarism, it is important that students learn how to quote and cite correctly. Do not submit answers written by other students.\n",
    "\n",
    "Week 43: last week before exam week, one deadline for both home exam written exam and AES report:\n",
    "Thursday October 27th at 11:59 PM (Thursday night before the exam week)\n",
    "\n",
    "Week 44: exam week, reserved Monday morning + Tuesday morning for AES oral exams, whole Friday for home exam oral exams. Exact times of individual oral exams are TBA.\n",
    "\n",
    "### Questions up to question 22 (a few more questions will be added later during the course)"
   ]
  },
  {
   "cell_type": "markdown",
   "id": "512064c1",
   "metadata": {},
   "source": [
    "## Question 1:\n",
    "\n",
    "(essay, max length 2.5 pages including figures)\n",
    "\n",
    "Essay title: Explain the Transport Layer Security (TLS) protocol\n",
    "\n",
    "Especially focus on the latest version 1.3 and the cryptographic aspects of the protocol. Especially pay attention to the related terminology and concepts covered in the course.\n",
    "\n",
    "Your essay needs to define and include the concept of \"cipher suite\" and discuss the cipher suite used in TLS.\n",
    "\n",
    "You may also visit e.g. your favourite websites and see if they are using TLS (and what version, 1.3 maybe) for encryption and authentication.\n"
   ]
  },
  {
   "cell_type": "markdown",
   "id": "47179ddb",
   "metadata": {},
   "source": []
  },
  {
   "cell_type": "markdown",
   "id": "30e31bfe",
   "metadata": {},
   "source": [
    "## Question 2:\n",
    "\n",
    "(essay, max length 2.5 pages including figures)\n",
    "\n",
    "Essay title: Next Generation Encryption (NGE)\n",
    "\n",
    "Discuss Next Generation Encryption (NGE) especially from the point of view of the algorithms discussed in the course and e.g. the recommended key lengths for these algorithms"
   ]
  },
  {
   "cell_type": "markdown",
   "id": "2e69db4e",
   "metadata": {},
   "source": []
  },
  {
   "cell_type": "markdown",
   "id": "b363e756",
   "metadata": {},
   "source": [
    "## Question 3:\n",
    "\n",
    "(essay, max length 2.5 pages including figures)\n",
    "\n",
    "Essay title: Cryptographic security services\n",
    "\n",
    "Several security services may be provided using cryptographic mechanisms. Such services include confidentiality, data integrity, authentication, authorization and non-repudiation. Often a combination of these services is required. \n",
    "\n",
    "Discuss these security services especially from the point of view of the algorithms discussed in the course, what they mean (definitions of confidentiality, data integrity, authentication, authorization and non-repudiation must be included) and what cryptographic mechanisms or algorithms can be used to achieve them."
   ]
  },
  {
   "cell_type": "markdown",
   "id": "094e73c5",
   "metadata": {},
   "source": []
  },
  {
   "cell_type": "markdown",
   "id": "e6bd5ca9",
   "metadata": {},
   "source": [
    "## Question 4:\n",
    "\n",
    "(essay, max length 2.5 pages including figures)\n",
    "\n",
    "Essay title: Data Encryption Standard (DES)\n",
    "\n",
    "Data Encryption Standard (DES) is a famous Feistel cipher. Start by explaining the Feistel cipher, what it is and what makes it a good cryptographic mechanism and how DES is built upon it. However, the original DES is nowadays considered insecure, and instead, Triple DES is recommended. Explain why DES is considered insecure, what Triple DES is and how it improves on the original DES."
   ]
  },
  {
   "cell_type": "markdown",
   "id": "0eea8f45",
   "metadata": {},
   "source": []
  },
  {
   "cell_type": "markdown",
   "id": "4ac321f0",
   "metadata": {},
   "source": [
    "## Question 5:\n",
    "\n",
    "Explain the Playfair cipher and encrypt the phrase \"jamesbondliveandletdie\" with the keyword \"dalarna\". You can choose I/J by yourself if needed."
   ]
  },
  {
   "cell_type": "markdown",
   "id": "6d6c8f16",
   "metadata": {},
   "source": []
  },
  {
   "cell_type": "markdown",
   "id": "9ed6cd6a",
   "metadata": {},
   "source": [
    "## Question 6:\n",
    "\n",
    "Our spies have intercepted \"svnyieakeeeklmtrnrheteetfvtnslvnioeesotws\". Attack the message and determine the type of cipher the enemy is using."
   ]
  },
  {
   "cell_type": "markdown",
   "id": "162b7efc",
   "metadata": {},
   "source": []
  },
  {
   "cell_type": "markdown",
   "id": "edeb2af7",
   "metadata": {},
   "source": [
    "## Question 7:\n",
    "\n",
    "Estimate the amount of time it would take for Python and your personal computer system to loop through all possible AES-256 keys. Assume that a new key is updated (saved in a memory location) in each iteration of a for-loop."
   ]
  },
  {
   "cell_type": "code",
   "execution_count": null,
   "id": "01f6be6e",
   "metadata": {},
   "outputs": [],
   "source": []
  },
  {
   "cell_type": "markdown",
   "id": "b29f7439",
   "metadata": {},
   "source": []
  },
  {
   "cell_type": "markdown",
   "id": "274a9e43",
   "metadata": {},
   "source": [
    "## Question 8:\n",
    "\n",
    "Briefly explain why each of the following statements is true.\n",
    "\n",
    "a) $\\gcd(37,36)=37-36$"
   ]
  },
  {
   "cell_type": "markdown",
   "id": "bd644cd6",
   "metadata": {},
   "source": []
  },
  {
   "cell_type": "markdown",
   "id": "7167a006",
   "metadata": {},
   "source": [
    "b) $256 | 4^{128}$"
   ]
  },
  {
   "cell_type": "markdown",
   "id": "4e0f6182",
   "metadata": {},
   "source": []
  },
  {
   "cell_type": "markdown",
   "id": "44e7b22e",
   "metadata": {},
   "source": [
    "c) If $a$ and $b$ are prime, then $c=ab+1$ not necessarily prime."
   ]
  },
  {
   "cell_type": "markdown",
   "id": "ba1172bd",
   "metadata": {},
   "source": []
  },
  {
   "cell_type": "markdown",
   "id": "7104a1ba",
   "metadata": {},
   "source": [
    "d) If $p$ is prime and $a$ is coprime to $p$, then $a^{p-1}$ is congruent to $\\gcd(a,p)$ modulo $p$."
   ]
  },
  {
   "cell_type": "markdown",
   "id": "a174c133",
   "metadata": {},
   "source": []
  },
  {
   "cell_type": "markdown",
   "id": "f6912810",
   "metadata": {},
   "source": [
    "e) $24 \\equiv -51 \\mod 5$"
   ]
  },
  {
   "cell_type": "markdown",
   "id": "403ed3cb",
   "metadata": {},
   "source": []
  },
  {
   "cell_type": "markdown",
   "id": "09d98781",
   "metadata": {},
   "source": [
    "f) $\\phi(\\phi(13))=4$"
   ]
  },
  {
   "cell_type": "markdown",
   "id": "3c64ba6c",
   "metadata": {},
   "source": []
  },
  {
   "cell_type": "markdown",
   "id": "e64e3d70",
   "metadata": {},
   "source": [
    "## Question 9:\n",
    "\n",
    "For polynomial arithmetic with coefficients in $\\mathbb Z_{11}$, perform the following calculations. Also, briefly explain the difference between calculations in $\\mathbb Z_{11}$ and the \"normal\" way (calculations with coefficients in e.g. the reals $\\mathbb R$).\n",
    "\n",
    "a) $(x^2 + 2x + 9)(x^3 + 11x^2 + x + 7)$"
   ]
  },
  {
   "cell_type": "markdown",
   "id": "33ac5b39",
   "metadata": {},
   "source": []
  },
  {
   "cell_type": "markdown",
   "id": "6c616eb9",
   "metadata": {},
   "source": [
    "b) $(8x^2 + 3x + 2)(5x^2 + 6)$"
   ]
  },
  {
   "cell_type": "markdown",
   "id": "743e3b6c",
   "metadata": {},
   "source": []
  },
  {
   "cell_type": "markdown",
   "id": "ed1bce79",
   "metadata": {},
   "source": [
    "## Question 10:\n",
    "\n",
    "The enemy is poor and can only afford small semiprime RSA moduli $n=pq$.\n",
    "\n",
    "a) Use Python/Sage to factorize the enemy's modulus $n=2778546901342097$ into its prime factors $p$ and $q$, that is, find $p$ and $q$."
   ]
  },
  {
   "cell_type": "code",
   "execution_count": null,
   "id": "e3957fd1",
   "metadata": {},
   "outputs": [],
   "source": []
  },
  {
   "cell_type": "markdown",
   "id": "86f18062",
   "metadata": {},
   "source": []
  },
  {
   "cell_type": "markdown",
   "id": "2b67f7d8",
   "metadata": {},
   "source": [
    "b) Use the $p$ and $q$ that you found in a) to find $\\phi(n)$. In other words, how can you driectly find $\\phi(n)$ without knowing $n$?"
   ]
  },
  {
   "cell_type": "code",
   "execution_count": null,
   "id": "26e4ed4a",
   "metadata": {},
   "outputs": [],
   "source": []
  },
  {
   "cell_type": "markdown",
   "id": "36080e5c",
   "metadata": {},
   "source": []
  },
  {
   "cell_type": "markdown",
   "id": "7be4179e",
   "metadata": {},
   "source": [
    "c) The enemy seems to be using the RSA modulus $n=2778546901342097$ as in a) above and the public exponent $e=65537$. Use the Extended Euclidean algorithm to find the private exponent $d$. You can use e.g. the built-in Sage function for the Extended Euclidean algorithm."
   ]
  },
  {
   "cell_type": "code",
   "execution_count": null,
   "id": "721a637d",
   "metadata": {},
   "outputs": [],
   "source": []
  },
  {
   "cell_type": "markdown",
   "id": "7a372d46",
   "metadata": {},
   "source": []
  },
  {
   "cell_type": "markdown",
   "id": "d64652e2",
   "metadata": {},
   "source": [
    "d) Based on the the information you have found so far, decrypt $319111435225580$."
   ]
  },
  {
   "cell_type": "code",
   "execution_count": null,
   "id": "4fe1575a",
   "metadata": {},
   "outputs": [],
   "source": []
  },
  {
   "cell_type": "markdown",
   "id": "c3c7d035",
   "metadata": {},
   "source": []
  },
  {
   "cell_type": "markdown",
   "id": "f936df9e",
   "metadata": {},
   "source": [
    "## Question 11:\n",
    "\n",
    "Encrypt the phrase \"jamesbondliveandletdie\" (just like in question 5) with the Playfair cipher but now use your first name as the keyword. You can choose I/J by yourself if needed. First give your first name that you use as the keyword so that we can check that the solution is correct.\n",
    "\n",
    "Your name/keyword: (enter here)"
   ]
  },
  {
   "cell_type": "markdown",
   "id": "08df080b",
   "metadata": {},
   "source": []
  },
  {
   "cell_type": "markdown",
   "id": "31b11c09",
   "metadata": {},
   "source": [
    "## Question 12:\n",
    "\n",
    "(essay, max length 2.5 pages including figures)\n",
    "\n",
    "The following people are famous figures in the history of cryptography. Write a short biography on one the people. Especially explain what contributions the person (has) made to cryptography. Focus mostly on the concepts and terminology used on our course.\n",
    "\n",
    "- Boris Hagelin\n",
    "- Auguste Kerckhoffs\n",
    "- Ralph Merkle\n",
    "- Claude Shannon\n",
    "- Alan Turing\n",
    "\n",
    "Essay title: (enter the person's name here)"
   ]
  },
  {
   "cell_type": "markdown",
   "id": "0d8aa3dd",
   "metadata": {},
   "source": []
  },
  {
   "cell_type": "markdown",
   "id": "84bcdc6d",
   "metadata": {},
   "source": [
    "## Questions 13 to 22 are \"short questions\" that must be answered with just a couple of sentences with or without a single optional figure. References are not required for these answers. Be concise and on point."
   ]
  },
  {
   "cell_type": "markdown",
   "id": "c4b1e546",
   "metadata": {},
   "source": [
    "## Question 13:\n",
    "\n",
    "(short question)\n",
    "\n",
    "Explain the PGP architecture. What does it have to do with symmetric and asymmetric encryption?"
   ]
  },
  {
   "cell_type": "markdown",
   "id": "4e77d96a",
   "metadata": {},
   "source": []
  },
  {
   "cell_type": "markdown",
   "id": "458a4f1d",
   "metadata": {},
   "source": [
    "## Question 14:\n",
    "\n",
    "(short question)\n",
    "\n",
    "Briefly explain the Diffie-Hellman key exchange procedure. Also explain why it is such a popular and convenient system."
   ]
  },
  {
   "cell_type": "markdown",
   "id": "02f93cba",
   "metadata": {},
   "source": []
  },
  {
   "cell_type": "markdown",
   "id": "dc9e649c",
   "metadata": {},
   "source": [
    "## Question 15:\n",
    "\n",
    "(short question)\n",
    "\n",
    "What is a backdoor to a cryptosystem? Do you believe backdoors to systems like AES, DES and RSA are likely?"
   ]
  },
  {
   "cell_type": "markdown",
   "id": "e2d615bf",
   "metadata": {},
   "source": []
  },
  {
   "cell_type": "markdown",
   "id": "b11cf57b",
   "metadata": {},
   "source": [
    "## Question 16:\n",
    "\n",
    "(short question)\n",
    "\n",
    "What are digital signatures and message authentication codes? What are the major differences between the two?"
   ]
  },
  {
   "cell_type": "markdown",
   "id": "04327990",
   "metadata": {},
   "source": []
  },
  {
   "cell_type": "markdown",
   "id": "d2fae3d1",
   "metadata": {},
   "source": [
    "## Question 17:\n",
    "\n",
    "(short question)\n",
    "\n",
    "What is a side-channel attack? What can you do to prevent side-channel attacks?"
   ]
  },
  {
   "cell_type": "markdown",
   "id": "f01ce9c4",
   "metadata": {},
   "source": []
  },
  {
   "cell_type": "markdown",
   "id": "7383029b",
   "metadata": {},
   "source": [
    "## Question 18:\n",
    "\n",
    "(short question)\n",
    "\n",
    "What is a replay attack? What can you do to prevent replay attacks?"
   ]
  },
  {
   "cell_type": "markdown",
   "id": "b07e2d09",
   "metadata": {},
   "source": []
  },
  {
   "cell_type": "markdown",
   "id": "0073e87d",
   "metadata": {},
   "source": [
    "## Question 19:\n",
    "\n",
    "(short question)\n",
    "\n",
    "What is a known-plaintext attack? Why are substitution ciphers vulnerable to known-plaintext attacks?"
   ]
  },
  {
   "cell_type": "markdown",
   "id": "d2125cc0",
   "metadata": {},
   "source": []
  },
  {
   "cell_type": "markdown",
   "id": "6cfc16f5",
   "metadata": {},
   "source": [
    "## Question 20:\n",
    "\n",
    "(short question)\n",
    "\n",
    "What is the difference between differential and linear cryptanalysis?"
   ]
  },
  {
   "cell_type": "markdown",
   "id": "d264d5b3",
   "metadata": {},
   "source": []
  },
  {
   "cell_type": "markdown",
   "id": "c023526a",
   "metadata": {},
   "source": [
    "## Question 21:\n",
    "\n",
    "(short question)\n",
    "\n",
    "What is the Kerchoff's principle? Why should we follow this principle?"
   ]
  },
  {
   "cell_type": "markdown",
   "id": "c75e72f5",
   "metadata": {},
   "source": []
  },
  {
   "cell_type": "markdown",
   "id": "2e0e0b48",
   "metadata": {},
   "source": [
    "## Question 22:\n",
    "\n",
    "(short question)\n",
    "\n",
    "What are TRNGs and PRNGs? Give one or more examples of each."
   ]
  },
  {
   "cell_type": "markdown",
   "id": "b850f785",
   "metadata": {},
   "source": []
  }
 ],
 "metadata": {
  "kernelspec": {
   "display_name": "Python 3 (ipykernel)",
   "language": "python",
   "name": "python3"
  },
  "language_info": {
   "codemirror_mode": {
    "name": "ipython",
    "version": 3
   },
   "file_extension": ".py",
   "mimetype": "text/x-python",
   "name": "python",
   "nbconvert_exporter": "python",
   "pygments_lexer": "ipython3",
   "version": "3.9.12"
  }
 },
 "nbformat": 4,
 "nbformat_minor": 5
}
