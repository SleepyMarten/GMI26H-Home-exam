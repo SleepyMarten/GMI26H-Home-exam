{
 "cells": [
  {
   "cell_type": "markdown",
   "id": "0f757112",
   "metadata": {},
   "source": [
    "# GMI26H Cryptography Home Exam"
   ]
  },
  {
   "cell_type": "markdown",
   "id": "950de4b0",
   "metadata": {},
   "source": [
    "P1 HT22, Dalarna University\n",
    "\n",
    "(c) Joonas Pääkkönen\n",
    "\n",
    "### Deadline for the entire home exam: Thursday October 27th at 11:59 PM\n",
    "\n",
    "Home exam submission folder will be opened later (some days before the deadline)\n",
    "\n",
    "The maximum length of an essay is 2 pages .pdf format. If your essay contains one or more images or plots, the maximum is 2.5 pages.\n",
    "\n",
    "### Use \"File -> Download as\" to download this file (with your answers) as .pdf and you will see the length of each answer in .pdf format"
   ]
  },
  {
   "cell_type": "markdown",
   "id": "59605288",
   "metadata": {},
   "source": [
    "The following information is directly from the study guide:\n",
    "\n",
    "Home exam: One written home exam which is orally examined. Essays, terminology and short Python exercises. See the notes in the preface of the home exam. The maximum length of an essay is 2 pages .pdf format. If your essay contains one or more images or plots, the maximum is 2.5 pages.\n",
    "\n",
    "The written home exam will be updated approximately once a week so it is published in multiple parts. More questions will be added in each part. At the oral exam of the home exam, any part of the home exam may be examined. All parts of the home exam need to be submitted in one long JNB .ipynb file as well as in .pdf. There will be no (extensive) mathematics in the home exam, apart from perhaps a short formula here or there, but understanding the basics of the mathematics behind cryptography will surely improve your general understanding of the algorithms. Python and Sage can be used to add plots, diagrams and flowcharts to JNB files. You can also add your own drawings to your answers by taking pictures and using the Insert Image command in Markdown cells.\n",
    "\n",
    "You must be able to answer the questions in the oral exam of the home exam without looking at the written answers, though this does not mean that you cannot share your screen. However, if all you can do is to read every answer from your screen word for word, it’s a telltale sign that you have not understood the concept and may have simply copy-pasted your answers from somewhere else.\n",
    "\n",
    "If you have included a drawing or any other figure in your solutions, please do share your screen in the oral exam of the home exam and explain the drawing. You may also have a drawing app open on your computer and draw or write additional things on the fly, if you want.\n",
    "\n",
    "Students are encouraged to discuss cryptography at a general level with fellow students, though each student must write and submit his or her own solutions to the home exam and the AES project. Remember that on Learn you can look for everyone’s username (and thus email address handle) under “Roster → View everyone in your course” so you can email and ask others if you are looking for study buddies. The home exam is individual with individual solutions but working with fellow students is not prohibited. However, if you work with a fellow student, you must mention who you worked with in your answers. For instance: “On questions 2 and 4, I was working together with Carin Keysson”.\n",
    "\n",
    "Also remember that it is usually good practice to refer to several sources of information, not only one (e.g. always only a Wikipedia article).\n",
    "\n",
    "Presentations (oral exams): The AES project and the home exam will be orally presented. During your AES presentation we will look at your code and answers together and you will be asked questions regarding your implementation. You must be able to explain how your code works. If you have had help from others you must comment this in your code. You must comment if you have discussed your code or collaborated with fellow students and comment this for every class/method and give credit to the right person. The same goes if you have looked at code from the internet.\n",
    "\n",
    "Bring a valid ID card (e.g. a driver’s license or a DU access card with a picture) to each of the oral exams.\n",
    "\n",
    "Submissions: Students are encouraged to discuss the labs with fellow students, but everything must be submitted personally on Learn. Each student must write and submit individual solutions.\n",
    "\n",
    "Resubmissions: The home exam written exam and the AES project can be resubmitted twice until the\n",
    "student passes them. Also the oral exams can be retaken twice.\n",
    "\n",
    "Plagiarism: Uphold academic integrity and honesty. Do not plagiarise. Plagiarism means that your text or code reproduces the contents of someone else’s text or code without referencing to the original text or code. Plagiarism can at worst lead to suspension from studies and instructors are required to report all discovered plagiarism. To avoid plagiarism, it is important that students learn how to quote and cite correctly. Do not submit answers written by other students.\n",
    "\n",
    "Week 43: last week before exam week, one deadline for both home exam written exam and AES report:\n",
    "Thursday October 27th at 11:59 PM (Thursday night before the exam week)\n",
    "\n",
    "Week 44: exam week, reserved Monday morning + Tuesday morning for AES oral exams, whole Friday for home exam oral exams. Exact times of individual oral exams are TBA.\n",
    "\n",
    "### Part 1 (more parts will be added later during the course)"
   ]
  },
  {
   "cell_type": "markdown",
   "id": "512064c1",
   "metadata": {},
   "source": [
    "## Question 1:\n",
    "\n",
    "(essay, max length 2.5 pages including figures)\n",
    "\n",
    "Essay title: Explain the Transport Layer Security (TLS) protocol\n",
    "\n",
    "Especially focus on the latest version 1.3 and the cryptographic aspects of the protocol. Especially pay attention to the related terminology and concepts covered in the course.\n",
    "\n",
    "Your essay needs to define and include the concept of \"cipher suite\" and discuss the cipher suite used in TLS.\n",
    "\n",
    "You may also visit e.g. your favourite websites and see if they are using TLS (and what version, 1.3 maybe) for encryption and authentication.\n"
   ]
  },
  {
   "cell_type": "code",
   "execution_count": null,
   "id": "6da4e33c",
   "metadata": {},
   "outputs": [],
   "source": []
  },
  {
   "cell_type": "markdown",
   "id": "30e31bfe",
   "metadata": {},
   "source": [
    "## Question 2:\n",
    "\n",
    "(essay, max length 2.5 pages including figures)\n",
    "\n",
    "Essay title: Next Generation Encryption (NGE)\n",
    "\n",
    "Discuss Next Generation Encryption (NGE) especially from the point of view of the algorithms discussed in the course and e.g. the recommended key lengths for these algorithms"
   ]
  },
  {
   "cell_type": "code",
   "execution_count": null,
   "id": "c5d9e961",
   "metadata": {},
   "outputs": [],
   "source": []
  }
 ],
 "metadata": {
  "kernelspec": {
   "display_name": "Python 3 (ipykernel)",
   "language": "python",
   "name": "python3"
  },
  "language_info": {
   "codemirror_mode": {
    "name": "ipython",
    "version": 3
   },
   "file_extension": ".py",
   "mimetype": "text/x-python",
   "name": "python",
   "nbconvert_exporter": "python",
   "pygments_lexer": "ipython3",
   "version": "3.9.12"
  }
 },
 "nbformat": 4,
 "nbformat_minor": 5
}
